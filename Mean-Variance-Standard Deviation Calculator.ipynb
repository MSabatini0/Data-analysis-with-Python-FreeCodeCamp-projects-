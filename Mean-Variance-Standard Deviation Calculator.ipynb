{
 "cells": [
  {
   "cell_type": "code",
   "execution_count": 86,
   "id": "530508e7",
   "metadata": {},
   "outputs": [],
   "source": [
    "import numpy as np\n",
    "\n",
    "def calculate(list):\n",
    "    \n",
    "    if len(list) < 9:\n",
    "        return \"List must contain nine numbers.\"\n",
    "        \n",
    "   \n",
    "    array=np.array(list).reshape(3,3)\n",
    "    \n",
    "    calculations = dict()\n",
    "    \n",
    "    calculations['mean']= [np.mean(array,axis=0).tolist(), np.mean(array,axis=1).tolist(), np.mean(array)]\n",
    "    calculations['variance']= [np.var(array,axis=0).tolist(), np.var(array,axis=1).tolist(), np.var(array)]\n",
    "    calculations['standard deviation']= [np.std(array,axis=0).tolist(), np.std(array,axis=1).tolist(), np.std(array)]\n",
    "    calculations['max']= [np.max(array,axis=0).tolist(), np.max(array,axis=1).tolist(), np.max(array)]\n",
    "    calculations['min']= [np.min(array,axis=0).tolist(), np.min(array,axis=1).tolist(), np.min(array)]\n",
    "    calculations['sum']= [np.sum(array,axis=0).tolist(), np.sum(array,axis=1).tolist(), np.sum(array)]\n",
    "    \n",
    "\n",
    "    return calculations"
   ]
  },
  {
   "cell_type": "code",
   "execution_count": 88,
   "id": "d1ea1150",
   "metadata": {},
   "outputs": [
    {
     "data": {
      "text/plain": [
       "'List must contain nine numbers.'"
      ]
     },
     "execution_count": 88,
     "metadata": {},
     "output_type": "execute_result"
    }
   ],
   "source": [
    "calculate([0,1,2,3,4,5,6,7,8])"
   ]
  },
  {
   "cell_type": "code",
   "execution_count": 41,
   "id": "984f034c",
   "metadata": {},
   "outputs": [
    {
     "name": "stdout",
     "output_type": "stream",
     "text": [
      "[[0 1 2]\n",
      " [3 4 5]\n",
      " [6 7 8]]\n",
      "[0 1 2]\n",
      "[3. 4. 5.]\n",
      "[3.0, 4.0, 5.0]\n"
     ]
    }
   ],
   "source": [
    "array=np.array([0,1,2,3,4,5,6,7,8]).reshape(3,3)\n",
    "print(array)\n",
    "print(array[0,:])\n",
    "\n",
    "mean=np.mean(array,axis=0)\n",
    "lista=list(mean)\n",
    "\n",
    "print(mean)\n",
    "print(lista)"
   ]
  }
 ],
 "metadata": {
  "kernelspec": {
   "display_name": "Python 3",
   "language": "python",
   "name": "python3"
  },
  "language_info": {
   "codemirror_mode": {
    "name": "ipython",
    "version": 3
   },
   "file_extension": ".py",
   "mimetype": "text/x-python",
   "name": "python",
   "nbconvert_exporter": "python",
   "pygments_lexer": "ipython3",
   "version": "3.8.8"
  }
 },
 "nbformat": 4,
 "nbformat_minor": 5
}
